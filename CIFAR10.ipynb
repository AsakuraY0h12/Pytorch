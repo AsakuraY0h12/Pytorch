{
  "nbformat": 4,
  "nbformat_minor": 0,
  "metadata": {
    "colab": {
      "provenance": []
    },
    "kernelspec": {
      "name": "python3",
      "display_name": "Python 3"
    },
    "language_info": {
      "name": "python"
    }
  },
  "cells": [
    {
      "cell_type": "markdown",
      "source": [
        "CIFAR 10 daraset\n"
      ],
      "metadata": {
        "id": "S53KPc5TopDD"
      }
    },
    {
      "cell_type": "code",
      "source": [
        "import torch\n",
        "import torch.nn as nn\n",
        "import torch.nn.functional as F\n",
        "import torchvision\n",
        "import torchvision.transforms as transforms\n",
        "import matplotlib.pyplot as plt\n",
        "import numpy as np"
      ],
      "metadata": {
        "id": "V2Le2bnuonMl"
      },
      "execution_count": 1,
      "outputs": []
    },
    {
      "cell_type": "code",
      "source": [
        "# Configuring the device (GPU if available, else CPU)\n",
        "device = torch.device('cuda' if torch.cuda.is_available() else 'cpu')\n",
        "\n",
        "# Setting hyperparameters for training the model\n",
        "num_epochs = 10\n",
        "batch_size = 32\n",
        "learning_rate = 0.001\n",
        "\n",
        "# Defining the transform to normalize the dataset\n",
        "transform = transforms.Compose(\n",
        "    [transforms.ToTensor(),\n",
        "     transforms.Normalize((0.5, 0.5, 0.5), (0.5, 0.5, 0.5))])\n",
        "\n",
        "# Loading the CIFAR10 dataset and applying the transformations\n",
        "train_dataset = torchvision.datasets.CIFAR10(root='./data', train=True, download=True, transform=transform)\n",
        "test_dataset = torchvision.datasets.CIFAR10(root='./data', train=False, download=True, transform=transform)\n",
        "\n",
        "# Creating data loaders for training and testing datasets\n",
        "train_loader = torch.utils.data.DataLoader(train_dataset, batch_size=batch_size, shuffle=True)\n",
        "test_loader = torch.utils.data.DataLoader(test_dataset, batch_size=batch_size, shuffle=False)\n",
        "\n",
        "# Defining the classes of the CIFAR10 dataset\n",
        "classes = ('plane', 'car', 'bird', 'cat', 'deer', 'dog', 'frog', 'horse', 'ship', 'truck')"
      ],
      "metadata": {
        "colab": {
          "base_uri": "https://localhost:8080/"
        },
        "id": "bQ18xVE4okW0",
        "outputId": "13ffa3f4-9e68-4ee8-b5e4-8e441b585dea"
      },
      "execution_count": 2,
      "outputs": [
        {
          "output_type": "stream",
          "name": "stdout",
          "text": [
            "Downloading https://www.cs.toronto.edu/~kriz/cifar-10-python.tar.gz to ./data/cifar-10-python.tar.gz\n"
          ]
        },
        {
          "output_type": "stream",
          "name": "stderr",
          "text": [
            "100%|██████████| 170498071/170498071 [00:02<00:00, 59590728.41it/s]\n"
          ]
        },
        {
          "output_type": "stream",
          "name": "stdout",
          "text": [
            "Extracting ./data/cifar-10-python.tar.gz to ./data\n",
            "Files already downloaded and verified\n"
          ]
        }
      ]
    },
    {
      "cell_type": "code",
      "source": [
        "# Defining the neural network architecture\n",
        "class ConvolutionalNetwork(nn.Module):\n",
        "    def __init__(self):\n",
        "        super(ConvolutionalNetwork, self).__init__()\n",
        "        # Defining the layers\n",
        "        self.conv_layer1 = nn.Conv2d(3, 32, 3)\n",
        "        self.pooling_layer = nn.MaxPool2d(2, 2)\n",
        "        self.conv_layer2 = nn.Conv2d(32, 64, 3)\n",
        "        self.conv_layer3 = nn.Conv2d(64, 64, 3)\n",
        "        self.fc_layer1 = nn.Linear(64*4*4, 64)\n",
        "        self.fc_layer2 = nn.Linear(64, 10)\n",
        "\n",
        "    def forward(self, x):\n",
        "        # Forward pass through the network\n",
        "        x = F.relu(self.conv_layer1(x))\n",
        "        x = self.pooling_layer(x)\n",
        "        x = F.relu(self.conv_layer2(x))\n",
        "        x = self.pooling_layer(x)\n",
        "        x = F.relu(self.conv_layer3(x))\n",
        "        x = torch.flatten(x, 1)\n",
        "        x = F.relu(self.fc_layer1(x))\n",
        "        x = self.fc_layer2(x)\n",
        "        return x"
      ],
      "metadata": {
        "id": "hzJcLXFwokjv"
      },
      "execution_count": 3,
      "outputs": []
    },
    {
      "cell_type": "code",
      "source": [
        "# Initializing the model, loss function, and optimizer\n",
        "model = ConvolutionalNetwork().to(device)\n",
        "criterion = nn.CrossEntropyLoss()\n",
        "optimizer = torch.optim.Adam(model.parameters(), lr=learning_rate)\n",
        "\n",
        "# Counting the number of batches per epoch\n",
        "n_total_steps = len(train_loader)\n",
        "\n",
        "# Training the model\n",
        "for epoch in range(num_epochs):\n",
        "    running_loss = 0.0\n",
        "\n",
        "    for i, (images, labels) in enumerate(train_loader):\n",
        "        # Moving the images and labels to the configured device\n",
        "        images = images.to(device)\n",
        "        labels = labels.to(device)\n",
        "\n",
        "        # Forward pass to get the outputs\n",
        "        outputs = model(images)\n",
        "        # Calculating the loss\n",
        "        loss = criterion(outputs, labels)\n",
        "\n",
        "        # Backward pass to update the weights\n",
        "        loss.backward()\n",
        "        optimizer.step()\n",
        "        # Resetting the gradients\n",
        "        optimizer.zero_grad()\n",
        "\n",
        "        # Accumulating the loss over the epoch\n",
        "        running_loss += loss.item()\n",
        "\n",
        "    # Printing the average loss per epoch\n",
        "    print(f'Epoch [{epoch + 1}/{num_epochs}], Loss: {running_loss / n_total_steps:.3f}')\n",
        "\n",
        "# Saving the trained model\n",
        "model_save_path = './cnn.pth'\n",
        "torch.save(model.state_dict(), model_save_path)"
      ],
      "metadata": {
        "colab": {
          "base_uri": "https://localhost:8080/"
        },
        "id": "KQtIPr9BJ0kS",
        "outputId": "52f6e987-5d04-4d95-f120-cc97c72aa224"
      },
      "execution_count": 4,
      "outputs": [
        {
          "output_type": "stream",
          "name": "stdout",
          "text": [
            "Epoch [1/10], Loss: 1.494\n",
            "Epoch [2/10], Loss: 1.140\n",
            "Epoch [3/10], Loss: 0.975\n",
            "Epoch [4/10], Loss: 0.863\n",
            "Epoch [5/10], Loss: 0.783\n",
            "Epoch [6/10], Loss: 0.726\n",
            "Epoch [7/10], Loss: 0.674\n",
            "Epoch [8/10], Loss: 0.626\n",
            "Epoch [9/10], Loss: 0.591\n",
            "Epoch [10/10], Loss: 0.555\n"
          ]
        }
      ]
    }
  ]
}